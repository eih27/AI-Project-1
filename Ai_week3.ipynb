{
  "nbformat": 4,
  "nbformat_minor": 0,
  "metadata": {
    "colab": {
      "provenance": []
    },
    "kernelspec": {
      "name": "python3",
      "display_name": "Python 3"
    },
    "language_info": {
      "name": "python"
    }
  },
  "cells": [
    {
      "cell_type": "code",
      "execution_count": null,
      "metadata": {
        "id": "7WWXbsQv8gGG"
      },
      "outputs": [],
      "source": [
        "%reset -f\n"
      ]
    },
    {
      "cell_type": "code",
      "source": [
        "rm -rf train_data/__MACOSX\n"
      ],
      "metadata": {
        "id": "bgW_TnY1vUSN"
      },
      "execution_count": null,
      "outputs": []
    },
    {
      "cell_type": "code",
      "source": [
        "import tensorflow as tf\n",
        "from tensorflow import keras\n",
        "from tensorflow.keras import layers\n",
        "import matplotlib.pyplot as plt\n",
        "import zipfile\n",
        "import os\n",
        "\n",
        "# ✅ Ensure TensorFlow 2.14 is installed\n",
        "print(f\"Using TensorFlow version: {tf.__version__}\")\n",
        "\n",
        "# ✅ Step 1: Define paths\n",
        "zip_path = \"/content/train.zip\"  # Ensure this is the correct uploaded file\n",
        "extract_path = \"train_data\"  # The directory where extracted images will be saved\n",
        "\n",
        "# ✅ Step 2: Extract the zip file\n",
        "if not os.path.exists(extract_path):  # Avoid re-extracting if already done\n",
        "    with zipfile.ZipFile(zip_path, 'r') as zip_ref:\n",
        "        zip_ref.extractall(extract_path)\n",
        "\n",
        "print(f\"✅ Dataset extracted to: {extract_path}\")\n",
        "\n",
        "# ✅ Step 3: Load image dataset from extracted folder\n",
        "IMAGE_SIZE = (64, 64)\n",
        "BATCH_SIZE = 32\n",
        "\n",
        "train_dataset = keras.preprocessing.image_dataset_from_directory(\n",
        "    \"/content/train_data/train\",  # ✅ Load images from the extracted folder\n",
        "    image_size=IMAGE_SIZE,\n",
        "    batch_size=BATCH_SIZE,\n",
        "    shuffle=True\n",
        ")\n",
        "\n",
        "# ✅ Store class names before applying .map() (Fixes the AttributeError)\n",
        "class_names = train_dataset.class_names  # Store class names first\n",
        "num_classes = len(class_names)\n",
        "\n",
        "# ✅ Normalize images (rescale pixel values)\n",
        "normalization_layer = layers.Rescaling(1./255)\n",
        "train_dataset = train_dataset.map(lambda x, y: (normalization_layer(x), y))\n",
        "\n",
        "# ✅ Define a CNN Model\n",
        "model = keras.Sequential([\n",
        "    layers.Conv2D(32, (3, 3), activation=\"relu\", input_shape=(64, 64, 3)),\n",
        "    layers.Conv2D(64, (3, 3), activation=\"relu\"),\n",
        "    layers.Conv2D(128, (3, 3), activation=\"relu\"),\n",
        "    layers.Flatten(),\n",
        "    layers.Dense(128, activation=\"relu\"),\n",
        "    layers.Dropout(0.5),\n",
        "    layers.Dense(num_classes, activation=\"softmax\")  # ✅ Use stored class count\n",
        "])\n",
        "\n",
        "# ✅ Compile Model\n",
        "model.compile(optimizer=\"adam\",\n",
        "              loss=\"sparse_categorical_crossentropy\",\n",
        "              metrics=[\"accuracy\"])\n",
        "\n",
        "# ✅ Train Model for 10 Epochs\n",
        "history = model.fit(train_dataset, epochs=10)\n",
        "\n",
        "# ✅ Plot Training Results\n",
        "plt.plot(history.history['accuracy'], label='Training Accuracy')\n",
        "plt.xlabel(\"Epochs\")\n",
        "plt.ylabel(\"Accuracy\")\n",
        "plt.legend()\n",
        "plt.show()\n",
        "\n",
        "# ✅ Save Model\n",
        "model.save(\"trained_image_model.h5\")\n",
        "print(\"✅ Model saved successfully!\")\n"
      ],
      "metadata": {
        "colab": {
          "base_uri": "https://localhost:8080/",
          "height": 857
        },
        "id": "Uiowi_W_rcDN",
        "outputId": "9d51ae9c-50c1-4ed4-8470-349e5cd2326e"
      },
      "execution_count": null,
      "outputs": [
        {
          "output_type": "stream",
          "name": "stdout",
          "text": [
            "Using TensorFlow version: 2.14.0\n",
            "✅ Dataset extracted to: train_data\n",
            "Found 750 files belonging to 3 classes.\n",
            "Epoch 1/10\n",
            "24/24 [==============================] - 47s 2s/step - loss: 2.0977 - accuracy: 0.4040\n",
            "Epoch 2/10\n",
            "24/24 [==============================] - 35s 1s/step - loss: 0.7404 - accuracy: 0.6973\n",
            "Epoch 3/10\n",
            "24/24 [==============================] - 36s 2s/step - loss: 0.3906 - accuracy: 0.8560\n",
            "Epoch 4/10\n",
            "24/24 [==============================] - 36s 1s/step - loss: 0.1841 - accuracy: 0.9360\n",
            "Epoch 5/10\n",
            "24/24 [==============================] - 41s 2s/step - loss: 0.1117 - accuracy: 0.9573\n",
            "Epoch 6/10\n",
            "24/24 [==============================] - 36s 1s/step - loss: 0.0781 - accuracy: 0.9760\n",
            "Epoch 7/10\n",
            "24/24 [==============================] - 36s 1s/step - loss: 0.0597 - accuracy: 0.9827\n",
            "Epoch 8/10\n",
            "24/24 [==============================] - 36s 1s/step - loss: 0.0351 - accuracy: 0.9893\n",
            "Epoch 9/10\n",
            "24/24 [==============================] - 36s 1s/step - loss: 0.0488 - accuracy: 0.9840\n",
            "Epoch 10/10\n",
            "24/24 [==============================] - 36s 1s/step - loss: 0.0381 - accuracy: 0.9893\n"
          ]
        },
        {
          "output_type": "display_data",
          "data": {
            "text/plain": [
              "<Figure size 640x480 with 1 Axes>"
            ],
            "image/png": "[encoded data removed]"
          },
          "metadata": {}
        },
        {
          "output_type": "stream",
          "name": "stdout",
          "text": [
            "✅ Model saved successfully!\n"
          ]
        }
      ]
    },
    {
      "cell_type": "code",
      "source": [
        "import tensorflow as tf\n",
        "\n",
        "# ✅ Load the existing H5 model\n",
        "h5_model_path = \"/content/trained_image_model.h5\"  # Change to your file\n",
        "model = tf.keras.models.load_model(h5_model_path, compile=False)\n",
        "\n",
        "# ✅ Re-save in a new format (fixes batch_shape issue)\n",
        "new_h5_path = \"/content/converted_model.h5\"\n",
        "model.save(new_h5_path, save_format='h5')\n",
        "\n",
        "print(f\"✅ Model successfully re-saved as: {new_h5_path}\")\n"
      ],
      "metadata": {
        "colab": {
          "base_uri": "https://localhost:8080/"
        },
        "id": "AP-CzAe80o3r",
        "outputId": "6e1236a2-67fa-4629-8f5e-35c7ec62da58"
      },
      "execution_count": null,
      "outputs": [
        {
          "output_type": "stream",
          "name": "stderr",
          "text": [
            "WARNING:tensorflow:Compiled the loaded model, but the compiled metrics have yet to be built. `model.compile_metrics` will be empty until you train or evaluate the model.\n"
          ]
        },
        {
          "output_type": "stream",
          "name": "stdout",
          "text": [
            "✅ Model successfully re-saved as: /content/converted_model.h5\n"
          ]
        }
      ]
    },
    {
      "cell_type": "code",
      "source": [
        "import tensorflow as tf\n",
        "import numpy as np\n",
        "\n",
        "# ✅ Load the fixed H5 model\n",
        "fixed_h5_path = \"/content/trained_image_model.h5\"  # Use the fixed H5 model\n",
        "model = tf.keras.models.load_model(fixed_h5_path)\n",
        "\n",
        "# ✅ Define Representative Dataset Function (for INT8 quantization)\n",
        "def representative_dataset():\n",
        "    for _ in range(100):  # Use 100 sample images for calibration\n",
        "        data = np.random.rand(1, 64, 64, 3).astype(np.float32)  # Match input shape\n",
        "        yield [data]\n",
        "\n",
        "# ✅ Convert Model to TFLite Format with Full INT8 Quantization\n",
        "converter = tf.lite.TFLiteConverter.from_keras_model(model)\n",
        "converter.optimizations = [tf.lite.Optimize.DEFAULT]  # Enable quantization\n",
        "converter.representative_dataset = representative_dataset  # Required for INT8\n",
        "converter.target_spec.supported_ops = [tf.lite.OpsSet.TFLITE_BUILTINS_INT8]  # INT8 ops\n",
        "\n",
        "# ✅ Ensure Full INT8 Support (Fixes your issue)\n",
        "converter.inference_input_type = tf.int8  # Ensure input is INT8\n",
        "converter.inference_output_type = tf.int8  # Ensure output is INT8\n",
        "\n",
        "# Convert the model\n",
        "tflite_model = converter.convert()\n",
        "\n",
        "# ✅ Save the INT8 TFLite Model\n",
        "tflite_model_path = \"/content/trained_image_model.tflite\"\n",
        "with open(tflite_model_path, \"wb\") as f:\n",
        "    f.write(tflite_model)\n",
        "\n",
        "print(f\"✅ Model successfully converted to INT8 TFLite format: {tflite_model_path}\")\n"
      ],
      "metadata": {
        "colab": {
          "base_uri": "https://localhost:8080/"
        },
        "id": "DhSBK4foLApL",
        "outputId": "8371579a-6527-4a8a-ab05-03d85fa37013"
      },
      "execution_count": null,
      "outputs": [
        {
          "output_type": "stream",
          "name": "stderr",
          "text": [
            "/usr/local/lib/python3.11/dist-packages/tensorflow/lite/python/convert.py:947: UserWarning: Statistics for quantized inputs were expected, but not specified; continuing anyway.\n",
            "  warnings.warn(\n"
          ]
        },
        {
          "output_type": "stream",
          "name": "stdout",
          "text": [
            "✅ Model successfully converted to INT8 TFLite format: /content/trained_image_model.tflite\n"
          ]
        }
      ]
    },
    {
      "cell_type": "code",
      "source": [
        "!rm -rf TinyMaix  # Remove any existing TinyMaix folder\n",
        "!git clone https://github.com/sipeed/TinyMaix.git\n"
      ],
      "metadata": {
        "id": "YS54tdF1KU4f",
        "colab": {
          "base_uri": "https://localhost:8080/"
        },
        "outputId": "48aa878c-e36b-4904-b06b-3156e659e8c1"
      },
      "execution_count": null,
      "outputs": [
        {
          "output_type": "stream",
          "name": "stdout",
          "text": [
            "Cloning into 'TinyMaix'...\n",
            "remote: Enumerating objects: 1749, done.\u001b[K\n",
            "remote: Counting objects: 100% (479/479), done.\u001b[K\n",
            "remote: Compressing objects: 100% (136/136), done.\u001b[K\n",
            "remote: Total 1749 (delta 354), reused 356 (delta 338), pack-reused 1270 (from 2)\u001b[K\n",
            "Receiving objects: 100% (1749/1749), 48.03 MiB | 17.67 MiB/s, done.\n",
            "Resolving deltas: 100% (933/933), done.\n"
          ]
        }
      ]
    },
    {
      "cell_type": "code",
      "source": [
        "!python TinyMaix/tools/tflite2tmdl.py /content/trained_image_model.tflite /content/trained_image_model.tmdl int8 0 \"64,64,3\" \"1,3\"\n"
      ],
      "metadata": {
        "colab": {
          "base_uri": "https://localhost:8080/"
        },
        "id": "Ms5qDA054mJU",
        "outputId": "352e801a-2055-479f-ff24-85c2d38fba88"
      },
      "execution_count": null,
      "outputs": [
        {
          "output_type": "stream",
          "name": "stdout",
          "text": [
            "2025-02-27 14:55:06.121522: E tensorflow/compiler/xla/stream_executor/cuda/cuda_dnn.cc:9342] Unable to register cuDNN factory: Attempting to register factory for plugin cuDNN when one has already been registered\n",
            "2025-02-27 14:55:06.121577: E tensorflow/compiler/xla/stream_executor/cuda/cuda_fft.cc:609] Unable to register cuFFT factory: Attempting to register factory for plugin cuFFT when one has already been registered\n",
            "2025-02-27 14:55:06.121610: E tensorflow/compiler/xla/stream_executor/cuda/cuda_blas.cc:1518] Unable to register cuBLAS factory: Attempting to register factory for plugin cuBLAS when one has already been registered\n",
            "2025-02-27 14:55:07.038088: W tensorflow/compiler/tf2tensorrt/utils/py_utils.cc:38] TF-TRT Warning: Could not find TensorRT\n",
            "INFO: Created TensorFlow Lite XNNPACK delegate for CPU.\n",
            "CONV_2D\n",
            "{'dilation_h_factor': 1, 'dilation_w_factor': 1, 'fused_activation_function': 1, 'padding': 1, 'stride_h': 1, 'stride_w': 1}\n",
            "    input: serving_default_conv2d_21_input:0\n",
            "    output: sequential_4/conv2d_21/Relu;sequential_4/conv2d_21/BiasAdd;sequential_4/conv2d_21/Conv2D;sequential_4/conv2d_21/BiasAdd/ReadVariableOp\n",
            "    filter 11: sequential_4/conv2d_21/Conv2D \n",
            "    bias 10: sequential_4/conv2d_21/BiasAdd/ReadVariableOp\n",
            "CONV_2D\n",
            "{'dilation_h_factor': 1, 'dilation_w_factor': 1, 'fused_activation_function': 1, 'padding': 1, 'stride_h': 1, 'stride_w': 1}\n",
            "    input: sequential_4/conv2d_21/Relu;sequential_4/conv2d_21/BiasAdd;sequential_4/conv2d_21/Conv2D;sequential_4/conv2d_21/BiasAdd/ReadVariableOp\n",
            "    output: sequential_4/conv2d_22/Relu;sequential_4/conv2d_22/BiasAdd;sequential_4/conv2d_22/Conv2D;sequential_4/conv2d_22/BiasAdd/ReadVariableOp\n",
            "    filter 9: sequential_4/conv2d_22/Conv2D \n",
            "    bias 8: sequential_4/conv2d_22/BiasAdd/ReadVariableOp\n",
            "CONV_2D\n",
            "{'dilation_h_factor': 1, 'dilation_w_factor': 1, 'fused_activation_function': 1, 'padding': 1, 'stride_h': 1, 'stride_w': 1}\n",
            "    input: sequential_4/conv2d_22/Relu;sequential_4/conv2d_22/BiasAdd;sequential_4/conv2d_22/Conv2D;sequential_4/conv2d_22/BiasAdd/ReadVariableOp\n",
            "    output: sequential_4/conv2d_23/Relu;sequential_4/conv2d_23/BiasAdd;sequential_4/conv2d_23/Conv2D;sequential_4/conv2d_23/BiasAdd/ReadVariableOp\n",
            "    filter 7: sequential_4/conv2d_23/Conv2D \n",
            "    bias 6: sequential_4/conv2d_23/BiasAdd/ReadVariableOp\n",
            "RESHAPE\n",
            "None\n",
            "    input: sequential_4/conv2d_23/Relu;sequential_4/conv2d_23/BiasAdd;sequential_4/conv2d_23/Conv2D;sequential_4/conv2d_23/BiasAdd/ReadVariableOp\n",
            "    output: sequential_4/flatten_7/Reshape\n",
            "    reshape no param\n",
            "FULLY_CONNECTED\n",
            "{'asymmetric_quantize_inputs': False, 'fused_activation_function': 1, 'keep_num_dims': False, 'weights_format': 0}\n",
            "    input: sequential_4/flatten_7/Reshape\n",
            "    output: sequential_4/dense_11/MatMul;sequential_4/dense_11/Relu;sequential_4/dense_11/BiasAdd\n",
            "    weight: sequential_4/dense_11/MatMul\n",
            "    bias: sequential_4/dense_11/BiasAdd/ReadVariableOp\n",
            "FULLY_CONNECTED\n",
            "{'asymmetric_quantize_inputs': False, 'fused_activation_function': 0, 'keep_num_dims': False, 'weights_format': 0}\n",
            "    input: sequential_4/dense_11/MatMul;sequential_4/dense_11/Relu;sequential_4/dense_11/BiasAdd\n",
            "    output: sequential_4/dense_12/MatMul;sequential_4/dense_12/BiasAdd\n",
            "    weight: sequential_4/dense_12/MatMul\n",
            "    bias: sequential_4/dense_12/BiasAdd/ReadVariableOp\n",
            "SOFTMAX\n",
            "{'beta': 1.0}\n",
            "OUTPUT!\n",
            "    input: sequential_4/dense_12/MatMul;sequential_4/dense_12/BiasAdd\n",
            "    output: StatefulPartitionedCall:0\n",
            "    softmax no param\n",
            "ping-pong buf 660992 Byte, ADD-buf 0 Byte; Total 660992 Byte\n",
            "================ pack model head ================\n",
            "mdl_type   =0\n",
            "out_deq    =0\n",
            "input_cnt  =1\n",
            "output_cnt =1\n",
            "layer_cnt  =7\n",
            "buf_size   =660992, keep_size=0, Total=660992\n",
            "sub_size   =0\n",
            "in_dims    = [3, 64, 64, 3]\n",
            "out_dims   = [2, 1, 1, 3]\n",
            "================   pack layers   ================\n",
            "CONV_2D    \n",
            "    [3, 64, 64, 3] [3, 62, 62, 32]\n",
            "    in_oft:0, size:12288;  out_oft:537984, size:123008\n",
            "Traceback (most recent call last):\n",
            "  File \"/content/TinyMaix/tools/tflite2tmdl.py\", line 620, in <module>\n",
            "    tflite2tmdl(tflite_name, tmdl_name, mdl_type, out_deq, in_dims, out_dims, endian)\n",
            "  File \"/content/TinyMaix/tools/tflite2tmdl.py\", line 582, in tflite2tmdl\n",
            "    pack_tmdl(layers, tmdl_name, mdl_type, out_deq, in_dims, out_dims, endian, write_c_header=write_c_header)\n",
            "  File \"/content/TinyMaix/tools/tflite2tmdl.py\", line 521, in pack_tmdl\n",
            "    assert len(lh) == LAYERHEAD_SIZE   #print(\"layer head not align on 8byte!\")\n",
            "           ^^^^^^^^^^^^^^^^^^^^^^^^^\n",
            "AssertionError\n"
          ]
        }
      ]
    },
    {
      "cell_type": "code",
      "source": [
        "!python TinyMaix/tools/tflite2tmdl.py /content/trained_image_model.tflite /content/trained_image_model.tmdl int8 0 \"64,64,3\" \"1,3\"\n"
      ],
      "metadata": {
        "colab": {
          "base_uri": "https://localhost:8080/"
        },
        "id": "_eXHw3a624Tn",
        "outputId": "4b26ac47-d8bf-4c0e-c490-2b2280ba1c70"
      },
      "execution_count": null,
      "outputs": [
        {
          "output_type": "stream",
          "name": "stdout",
          "text": [
            "2025-02-27 15:02:48.328480: E tensorflow/compiler/xla/stream_executor/cuda/cuda_dnn.cc:9342] Unable to register cuDNN factory: Attempting to register factory for plugin cuDNN when one has already been registered\n",
            "2025-02-27 15:02:48.328538: E tensorflow/compiler/xla/stream_executor/cuda/cuda_fft.cc:609] Unable to register cuFFT factory: Attempting to register factory for plugin cuFFT when one has already been registered\n",
            "2025-02-27 15:02:48.328571: E tensorflow/compiler/xla/stream_executor/cuda/cuda_blas.cc:1518] Unable to register cuBLAS factory: Attempting to register factory for plugin cuBLAS when one has already been registered\n",
            "2025-02-27 15:02:49.263703: W tensorflow/compiler/tf2tensorrt/utils/py_utils.cc:38] TF-TRT Warning: Could not find TensorRT\n",
            "INFO: Created TensorFlow Lite XNNPACK delegate for CPU.\n",
            "CONV_2D\n",
            "{'dilation_h_factor': 1, 'dilation_w_factor': 1, 'fused_activation_function': 1, 'padding': 1, 'stride_h': 1, 'stride_w': 1}\n",
            "    input: serving_default_conv2d_21_input:0\n",
            "    output: sequential_4/conv2d_21/Relu;sequential_4/conv2d_21/BiasAdd;sequential_4/conv2d_21/Conv2D;sequential_4/conv2d_21/BiasAdd/ReadVariableOp\n",
            "    filter 11: sequential_4/conv2d_21/Conv2D \n",
            "    bias 10: sequential_4/conv2d_21/BiasAdd/ReadVariableOp\n",
            "CONV_2D\n",
            "{'dilation_h_factor': 1, 'dilation_w_factor': 1, 'fused_activation_function': 1, 'padding': 1, 'stride_h': 1, 'stride_w': 1}\n",
            "    input: sequential_4/conv2d_21/Relu;sequential_4/conv2d_21/BiasAdd;sequential_4/conv2d_21/Conv2D;sequential_4/conv2d_21/BiasAdd/ReadVariableOp\n",
            "    output: sequential_4/conv2d_22/Relu;sequential_4/conv2d_22/BiasAdd;sequential_4/conv2d_22/Conv2D;sequential_4/conv2d_22/BiasAdd/ReadVariableOp\n",
            "    filter 9: sequential_4/conv2d_22/Conv2D \n",
            "    bias 8: sequential_4/conv2d_22/BiasAdd/ReadVariableOp\n",
            "CONV_2D\n",
            "{'dilation_h_factor': 1, 'dilation_w_factor': 1, 'fused_activation_function': 1, 'padding': 1, 'stride_h': 1, 'stride_w': 1}\n",
            "    input: sequential_4/conv2d_22/Relu;sequential_4/conv2d_22/BiasAdd;sequential_4/conv2d_22/Conv2D;sequential_4/conv2d_22/BiasAdd/ReadVariableOp\n",
            "    output: sequential_4/conv2d_23/Relu;sequential_4/conv2d_23/BiasAdd;sequential_4/conv2d_23/Conv2D;sequential_4/conv2d_23/BiasAdd/ReadVariableOp\n",
            "    filter 7: sequential_4/conv2d_23/Conv2D \n",
            "    bias 6: sequential_4/conv2d_23/BiasAdd/ReadVariableOp\n",
            "RESHAPE\n",
            "None\n",
            "    input: sequential_4/conv2d_23/Relu;sequential_4/conv2d_23/BiasAdd;sequential_4/conv2d_23/Conv2D;sequential_4/conv2d_23/BiasAdd/ReadVariableOp\n",
            "    output: sequential_4/flatten_7/Reshape\n",
            "    reshape no param\n",
            "FULLY_CONNECTED\n",
            "{'asymmetric_quantize_inputs': False, 'fused_activation_function': 1, 'keep_num_dims': False, 'weights_format': 0}\n",
            "    input: sequential_4/flatten_7/Reshape\n",
            "    output: sequential_4/dense_11/MatMul;sequential_4/dense_11/Relu;sequential_4/dense_11/BiasAdd\n",
            "    weight: sequential_4/dense_11/MatMul\n",
            "    bias: sequential_4/dense_11/BiasAdd/ReadVariableOp\n",
            "FULLY_CONNECTED\n",
            "{'asymmetric_quantize_inputs': False, 'fused_activation_function': 0, 'keep_num_dims': False, 'weights_format': 0}\n",
            "    input: sequential_4/dense_11/MatMul;sequential_4/dense_11/Relu;sequential_4/dense_11/BiasAdd\n",
            "    output: sequential_4/dense_12/MatMul;sequential_4/dense_12/BiasAdd\n",
            "    weight: sequential_4/dense_12/MatMul\n",
            "    bias: sequential_4/dense_12/BiasAdd/ReadVariableOp\n",
            "SOFTMAX\n",
            "{'beta': 1.0}\n",
            "OUTPUT!\n",
            "    input: sequential_4/dense_12/MatMul;sequential_4/dense_12/BiasAdd\n",
            "    output: StatefulPartitionedCall:0\n",
            "    softmax no param\n",
            "================ pack model head ================\n",
            "⚠️ Adjusting LAYERHEAD_SIZE from 48 to 56\n",
            "================   pack layers   ================\n",
            "Processing layer 1: CONV_2D\n",
            "DEBUG: Layer header length: 24, Expected: 56\n",
            "⚠️ WARNING: Layer header mismatch! Expected 56, got 24\n",
            "Processing layer 2: CONV_2D\n",
            "DEBUG: Layer header length: 24, Expected: 24\n",
            "Processing layer 3: CONV_2D\n",
            "DEBUG: Layer header length: 24, Expected: 24\n",
            "Processing layer 4: RESHAPE\n",
            "DEBUG: Layer header length: 24, Expected: 24\n",
            "Processing layer 5: FULLY_CONNECTED\n",
            "DEBUG: Layer header length: 24, Expected: 24\n",
            "Processing layer 6: FULLY_CONNECTED\n",
            "DEBUG: Layer header length: 24, Expected: 24\n",
            "Processing layer 7: SOFTMAX\n",
            "DEBUG: Layer header length: 24, Expected: 24\n",
            "================    pack done!   ================\n"
          ]
        }
      ]
    },
    {
      "cell_type": "markdown",
      "source": [],
      "metadata": {
        "id": "V5rvr_FG67fk"
      }
    },
    {
      "cell_type": "code",
      "source": [],
      "metadata": {
        "id": "9fkFVcas4Xut"
      },
      "execution_count": null,
      "outputs": []
    }
  ]
}